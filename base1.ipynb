{
  "nbformat": 4,
  "nbformat_minor": 0,
  "metadata": {
    "colab": {
      "name": "base1.ipynb",
      "provenance": [],
      "collapsed_sections": [],
      "authorship_tag": "ABX9TyOEBrEDOFWoWAbYV/2l8Sp9",
      "include_colab_link": true
    },
    "kernelspec": {
      "name": "python3",
      "display_name": "Python 3"
    },
    "language_info": {
      "name": "python"
    }
  },
  "cells": [
    {
      "cell_type": "markdown",
      "metadata": {
        "id": "view-in-github",
        "colab_type": "text"
      },
      "source": [
        "<a href=\"https://colab.research.google.com/github/syuan0525/python-base/blob/main/base1.ipynb\" target=\"_parent\"><img src=\"https://colab.research.google.com/assets/colab-badge.svg\" alt=\"Open In Colab\"/></a>"
      ]
    },
    {
      "cell_type": "markdown",
      "metadata": {
        "id": "ZXihgw1JuMZ6"
      },
      "source": [
        "  命名方式\n",
        "  \n",
        "  SchoolName ---->大駝峰(class名稱)\n",
        "\n",
        "  school_name ---->蛇行"
      ]
    },
    {
      "cell_type": "code",
      "metadata": {
        "colab": {
          "base_uri": "https://localhost:8080/"
        },
        "id": "wMYED6R0vNyb",
        "outputId": "25249a13-9ddf-4567-bc1e-598d187d1872"
      },
      "source": [
        "import keyword\n",
        "\n",
        "print(keyword.kwlist)"
      ],
      "execution_count": 1,
      "outputs": [
        {
          "output_type": "stream",
          "name": "stdout",
          "text": [
            "['False', 'None', 'True', 'and', 'as', 'assert', 'async', 'await', 'break', 'class', 'continue', 'def', 'del', 'elif', 'else', 'except', 'finally', 'for', 'from', 'global', 'if', 'import', 'in', 'is', 'lambda', 'nonlocal', 'not', 'or', 'pass', 'raise', 'return', 'try', 'while', 'with', 'yield']\n"
          ]
        }
      ]
    },
    {
      "cell_type": "code",
      "metadata": {
        "colab": {
          "base_uri": "https://localhost:8080/"
        },
        "id": "cy4IZQpPwwxg",
        "outputId": "e695cbe4-a553-44f5-9b93-d9f5103cecd9"
      },
      "source": [
        "print(2/3)  #除\n",
        "print(2//3)  #整除\n",
        "print(2%3)  #求餘數\n",
        "print(2**3)  #次方"
      ],
      "execution_count": 5,
      "outputs": [
        {
          "output_type": "stream",
          "name": "stdout",
          "text": [
            "0.6666666666666666\n",
            "0\n",
            "2\n",
            "8\n"
          ]
        }
      ]
    },
    {
      "cell_type": "code",
      "metadata": {
        "colab": {
          "base_uri": "https://localhost:8080/"
        },
        "id": "cm-PJ_PGyNV0",
        "outputId": "71b8d338-4f8d-4c66-ead1-5651369d403e"
      },
      "source": [
        "age = 20\n",
        "year = 10\n",
        "age = age + year  # age += year\n",
        "print(age)"
      ],
      "execution_count": 6,
      "outputs": [
        {
          "output_type": "stream",
          "name": "stdout",
          "text": [
            "30\n"
          ]
        }
      ]
    },
    {
      "cell_type": "code",
      "metadata": {
        "colab": {
          "base_uri": "https://localhost:8080/"
        },
        "id": "vNXu2d1-y8yj",
        "outputId": "a8bb5d70-8c05-42c7-eabc-b12e92bad3de"
      },
      "source": [
        "h = input(\"您的身高:\")\n",
        "\n",
        "print(h)\n",
        "print(type(h))"
      ],
      "execution_count": 11,
      "outputs": [
        {
          "output_type": "stream",
          "name": "stdout",
          "text": [
            "您的身高:166\n",
            "166\n",
            "<class 'str'>\n"
          ]
        }
      ]
    },
    {
      "cell_type": "code",
      "metadata": {
        "colab": {
          "base_uri": "https://localhost:8080/"
        },
        "id": "UV_vr6aU0her",
        "outputId": "ca88272f-1f9c-4160-a507-ea205fd080e7"
      },
      "source": [
        "stds = [\"a\",\"b\",\"c\"]\n",
        "print(stds)\n",
        "print(type(stds))\n",
        "print(stds[1])\n",
        "print(stds[-1])"
      ],
      "execution_count": 14,
      "outputs": [
        {
          "output_type": "stream",
          "name": "stdout",
          "text": [
            "['a', 'b', 'c']\n",
            "<class 'list'>\n",
            "b\n",
            "c\n"
          ]
        }
      ]
    },
    {
      "cell_type": "code",
      "metadata": {
        "colab": {
          "base_uri": "https://localhost:8080/"
        },
        "id": "P0xKRS5z8qbs",
        "outputId": "19538848-3557-4a8d-efcd-3a5c293040dd"
      },
      "source": [
        "stds = [\"a\",\"b\",\"c\",\"d\",\"e\",\"f\"]\n",
        "print(stds[1:3])\n",
        "print(stds[1:])\n",
        "print(stds[:-2])\n",
        "print(stds[::-1])\n",
        "print(stds[::2]) #每幾個一跳"
      ],
      "execution_count": 21,
      "outputs": [
        {
          "output_type": "stream",
          "name": "stdout",
          "text": [
            "['b', 'c']\n",
            "['b', 'c', 'd', 'e', 'f']\n",
            "['a', 'b', 'c', 'd']\n",
            "['f', 'e', 'd', 'c', 'b', 'a']\n",
            "['a', 'c', 'e']\n"
          ]
        }
      ]
    },
    {
      "cell_type": "code",
      "metadata": {
        "colab": {
          "base_uri": "https://localhost:8080/"
        },
        "id": "SZKwS9KqAPvI",
        "outputId": "aac72744-6794-4e28-8f63-f92b58b7f9dd"
      },
      "source": [
        "num_list = []\n",
        "\n",
        "num_list.append(1)\n",
        "num_list.append(2)\n",
        "\n",
        "print(num_list)"
      ],
      "execution_count": 22,
      "outputs": [
        {
          "output_type": "stream",
          "name": "stdout",
          "text": [
            "[1, 2]\n"
          ]
        }
      ]
    },
    {
      "cell_type": "code",
      "metadata": {
        "colab": {
          "base_uri": "https://localhost:8080/"
        },
        "id": "EteHOKHcA0wp",
        "outputId": "11274cd8-ca8b-4c0a-b94c-6de053274803"
      },
      "source": [
        "num_list = [1, 2, 3, 4, 5, 6]\n",
        "\n",
        "num_list.insert(4,100)\n",
        "print(num_list)"
      ],
      "execution_count": 23,
      "outputs": [
        {
          "output_type": "stream",
          "name": "stdout",
          "text": [
            "[1, 2, 3, 4, 100, 5, 6]\n"
          ]
        }
      ]
    },
    {
      "cell_type": "code",
      "metadata": {
        "colab": {
          "base_uri": "https://localhost:8080/"
        },
        "id": "ftmyyE08BT-6",
        "outputId": "0f1fd63f-d282-4c66-bc6d-9017f0ec1a20"
      },
      "source": [
        "num_list = [1, 2, 3, 4, 5, 6]\n",
        "\n",
        "print(num_list.index(2))"
      ],
      "execution_count": 25,
      "outputs": [
        {
          "output_type": "stream",
          "name": "stdout",
          "text": [
            "1\n"
          ]
        }
      ]
    },
    {
      "cell_type": "code",
      "metadata": {
        "colab": {
          "base_uri": "https://localhost:8080/"
        },
        "id": "2mwL0JV4CHzT",
        "outputId": "3f565966-d5d3-4358-f47a-1f17ba52aaec"
      },
      "source": [
        "num_list = [1, 2, 3, 4, 5, 6]\n",
        "\n",
        "print(2 in num_list)\n",
        "print(8 in num_list)"
      ],
      "execution_count": 27,
      "outputs": [
        {
          "output_type": "stream",
          "name": "stdout",
          "text": [
            "True\n",
            "False\n"
          ]
        }
      ]
    },
    {
      "cell_type": "code",
      "metadata": {
        "colab": {
          "base_uri": "https://localhost:8080/"
        },
        "id": "BIcQAT15DpEa",
        "outputId": "6ca57ee5-b7da-4ee4-a920-f0ad99ea8c7f"
      },
      "source": [
        "print(round(3.14159,3)) #小數點後第幾位"
      ],
      "execution_count": 29,
      "outputs": [
        {
          "output_type": "stream",
          "name": "stdout",
          "text": [
            "3.142\n"
          ]
        }
      ]
    },
    {
      "cell_type": "code",
      "metadata": {
        "colab": {
          "base_uri": "https://localhost:8080/"
        },
        "id": "-MFWVVngEAn7",
        "outputId": "d28d65c1-1abc-4856-b99c-ce4f285711d7"
      },
      "source": [
        "abs(-199) #絕對值"
      ],
      "execution_count": 30,
      "outputs": [
        {
          "output_type": "execute_result",
          "data": {
            "text/plain": [
              "199"
            ]
          },
          "metadata": {},
          "execution_count": 30
        }
      ]
    },
    {
      "cell_type": "code",
      "metadata": {
        "colab": {
          "base_uri": "https://localhost:8080/"
        },
        "id": "c5_rvfEFEH3z",
        "outputId": "2556cbcc-892c-48e8-9e46-cf855fcf6021"
      },
      "source": [
        "pow(2,3) #次方"
      ],
      "execution_count": 31,
      "outputs": [
        {
          "output_type": "execute_result",
          "data": {
            "text/plain": [
              "8"
            ]
          },
          "metadata": {},
          "execution_count": 31
        }
      ]
    },
    {
      "cell_type": "code",
      "metadata": {
        "colab": {
          "base_uri": "https://localhost:8080/"
        },
        "id": "Gl99ZhydFoWE",
        "outputId": "b5951ef5-0eaf-4dec-ead5-5309520a297e"
      },
      "source": [
        "import math\n",
        "\n",
        "print(math.ceil(123.456)) #無條件進位\n",
        "print(math.floor(123.456)) #無條件捨去"
      ],
      "execution_count": 33,
      "outputs": [
        {
          "output_type": "stream",
          "name": "stdout",
          "text": [
            "124\n",
            "123\n"
          ]
        }
      ]
    },
    {
      "cell_type": "code",
      "metadata": {
        "colab": {
          "base_uri": "https://localhost:8080/"
        },
        "id": "UzmacfoAGoe3",
        "outputId": "4695261a-e7fe-467a-e756-885dce3ee280"
      },
      "source": [
        "import random\n",
        "\n",
        "print(random.randint(0,5))"
      ],
      "execution_count": 37,
      "outputs": [
        {
          "output_type": "stream",
          "name": "stdout",
          "text": [
            "1\n"
          ]
        }
      ]
    },
    {
      "cell_type": "code",
      "metadata": {
        "colab": {
          "base_uri": "https://localhost:8080/"
        },
        "id": "lcTJ22FLHBGx",
        "outputId": "fe267c66-64e5-4b2b-a1a5-d6c7314584cb"
      },
      "source": [
        "name = input(\"請輸入名字:\")\n",
        "\n",
        "print(\"Hello {n},Today is {s} day\".format(n=name, s=\"good\"))\n",
        "status = \"good\"\n",
        "print(f\"Hello {name}! Today is {status} day!\")"
      ],
      "execution_count": 39,
      "outputs": [
        {
          "output_type": "stream",
          "name": "stdout",
          "text": [
            "請輸入名字:syuan\n",
            "Hello syuan,Today is good day\n",
            "Hello syuan! Today is good day!\n"
          ]
        }
      ]
    },
    {
      "cell_type": "code",
      "metadata": {
        "colab": {
          "base_uri": "https://localhost:8080/"
        },
        "id": "yfOLv4C9K5lj",
        "outputId": "440b6449-ca04-4662-9c93-2f22dfb3aaef"
      },
      "source": [
        "str1 = \"1 2 3 4 5\"\n",
        "print(str1.split())\n",
        "str1 = \"1,2,3,4,5\"\n",
        "print(str1.split(\",\"))"
      ],
      "execution_count": 41,
      "outputs": [
        {
          "output_type": "stream",
          "name": "stdout",
          "text": [
            "['1', '2', '3', '4', '5']\n",
            "['1', '2', '3', '4', '5']\n"
          ]
        }
      ]
    },
    {
      "cell_type": "code",
      "metadata": {
        "colab": {
          "base_uri": "https://localhost:8080/"
        },
        "id": "cAs0vJgmPSfc",
        "outputId": "ed95c181-e316-462e-ddbc-453063b25515"
      },
      "source": [
        "str1 = \"  Hello   \"  #清除空白\n",
        "\n",
        "print(str1.strip())"
      ],
      "execution_count": 45,
      "outputs": [
        {
          "output_type": "stream",
          "name": "stdout",
          "text": [
            "Hello\n"
          ]
        }
      ]
    },
    {
      "cell_type": "code",
      "metadata": {
        "colab": {
          "base_uri": "https://localhost:8080/"
        },
        "id": "ahTKHMJiQJkx",
        "outputId": "e4316999-b486-403c-b416-d708e2a51fea"
      },
      "source": [
        "str1 = \"This is a apple\"\n",
        "print(str1.count(\"is\"))"
      ],
      "execution_count": 46,
      "outputs": [
        {
          "output_type": "stream",
          "name": "stdout",
          "text": [
            "2\n"
          ]
        }
      ]
    },
    {
      "cell_type": "code",
      "metadata": {
        "colab": {
          "base_uri": "https://localhost:8080/"
        },
        "id": "oX6QzaccQH5N",
        "outputId": "8de9166a-e008-4cc1-a436-601b3b2cfdd2"
      },
      "source": [
        "str1 = \"99\"\n",
        "print(str1.zfill(5)) #補0滿幾位數"
      ],
      "execution_count": 47,
      "outputs": [
        {
          "output_type": "stream",
          "name": "stdout",
          "text": [
            "00099\n"
          ]
        }
      ]
    }
  ]
}