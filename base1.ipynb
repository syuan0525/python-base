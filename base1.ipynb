{
  "nbformat": 4,
  "nbformat_minor": 0,
  "metadata": {
    "colab": {
      "name": "base1.ipynb",
      "provenance": [],
      "collapsed_sections": [],
      "authorship_tag": "ABX9TyPpbc252LO0ioDkoiKFV3I5",
      "include_colab_link": true
    },
    "kernelspec": {
      "name": "python3",
      "display_name": "Python 3"
    },
    "language_info": {
      "name": "python"
    }
  },
  "cells": [
    {
      "cell_type": "markdown",
      "metadata": {
        "id": "view-in-github",
        "colab_type": "text"
      },
      "source": [
        "<a href=\"https://colab.research.google.com/github/syuan0525/python-base/blob/main/base1.ipynb\" target=\"_parent\"><img src=\"https://colab.research.google.com/assets/colab-badge.svg\" alt=\"Open In Colab\"/></a>"
      ]
    },
    {
      "cell_type": "markdown",
      "metadata": {
        "id": "ZXihgw1JuMZ6"
      },
      "source": [
        "  命名方式\n",
        "  \n",
        "  SchoolName ---->大駝峰(class名稱)\n",
        "\n",
        "  school_name ---->蛇行"
      ]
    },
    {
      "cell_type": "code",
      "metadata": {
        "colab": {
          "base_uri": "https://localhost:8080/"
        },
        "id": "wMYED6R0vNyb",
        "outputId": "25249a13-9ddf-4567-bc1e-598d187d1872"
      },
      "source": [
        "import keyword\n",
        "\n",
        "print(keyword.kwlist)"
      ],
      "execution_count": 1,
      "outputs": [
        {
          "output_type": "stream",
          "name": "stdout",
          "text": [
            "['False', 'None', 'True', 'and', 'as', 'assert', 'async', 'await', 'break', 'class', 'continue', 'def', 'del', 'elif', 'else', 'except', 'finally', 'for', 'from', 'global', 'if', 'import', 'in', 'is', 'lambda', 'nonlocal', 'not', 'or', 'pass', 'raise', 'return', 'try', 'while', 'with', 'yield']\n"
          ]
        }
      ]
    },
    {
      "cell_type": "code",
      "metadata": {
        "colab": {
          "base_uri": "https://localhost:8080/"
        },
        "id": "cy4IZQpPwwxg",
        "outputId": "e695cbe4-a553-44f5-9b93-d9f5103cecd9"
      },
      "source": [
        "print(2/3)  #除\n",
        "print(2//3)  #整除\n",
        "print(2%3)  #求餘數\n",
        "print(2**3)  #次方"
      ],
      "execution_count": 5,
      "outputs": [
        {
          "output_type": "stream",
          "name": "stdout",
          "text": [
            "0.6666666666666666\n",
            "0\n",
            "2\n",
            "8\n"
          ]
        }
      ]
    },
    {
      "cell_type": "code",
      "metadata": {
        "colab": {
          "base_uri": "https://localhost:8080/"
        },
        "id": "cm-PJ_PGyNV0",
        "outputId": "71b8d338-4f8d-4c66-ead1-5651369d403e"
      },
      "source": [
        "age = 20\n",
        "year = 10\n",
        "age = age + year  # age += year\n",
        "print(age)"
      ],
      "execution_count": 6,
      "outputs": [
        {
          "output_type": "stream",
          "name": "stdout",
          "text": [
            "30\n"
          ]
        }
      ]
    },
    {
      "cell_type": "code",
      "metadata": {
        "colab": {
          "base_uri": "https://localhost:8080/"
        },
        "id": "vNXu2d1-y8yj",
        "outputId": "a8bb5d70-8c05-42c7-eabc-b12e92bad3de"
      },
      "source": [
        "h = input(\"您的身高:\")\n",
        "\n",
        "print(h)\n",
        "print(type(h))"
      ],
      "execution_count": 11,
      "outputs": [
        {
          "output_type": "stream",
          "name": "stdout",
          "text": [
            "您的身高:166\n",
            "166\n",
            "<class 'str'>\n"
          ]
        }
      ]
    },
    {
      "cell_type": "code",
      "metadata": {
        "colab": {
          "base_uri": "https://localhost:8080/"
        },
        "id": "UV_vr6aU0her",
        "outputId": "5aa406b2-1207-4ffd-cf57-090a298a3521"
      },
      "source": [
        "std = [\"a\",\"b\",\"c\"]\n",
        "print(std)\n",
        "print(type(std))\n",
        "print(std[1])"
      ],
      "execution_count": 12,
      "outputs": [
        {
          "output_type": "stream",
          "name": "stdout",
          "text": [
            "['a', 'b', 'c']\n",
            "<class 'list'>\n",
            "b\n"
          ]
        }
      ]
    }
  ]
}