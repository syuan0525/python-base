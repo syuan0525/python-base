{
  "nbformat": 4,
  "nbformat_minor": 0,
  "metadata": {
    "colab": {
      "name": "base2.ipynb",
      "provenance": [],
      "authorship_tag": "ABX9TyNowK8v98N1QhCWdJAOfAle",
      "include_colab_link": true
    },
    "kernelspec": {
      "name": "python3",
      "display_name": "Python 3"
    },
    "language_info": {
      "name": "python"
    }
  },
  "cells": [
    {
      "cell_type": "markdown",
      "metadata": {
        "id": "view-in-github",
        "colab_type": "text"
      },
      "source": [
        "<a href=\"https://colab.research.google.com/github/syuan0525/python-base/blob/main/base2.ipynb\" target=\"_parent\"><img src=\"https://colab.research.google.com/assets/colab-badge.svg\" alt=\"Open In Colab\"/></a>"
      ]
    },
    {
      "cell_type": "code",
      "metadata": {
        "colab": {
          "base_uri": "https://localhost:8080/"
        },
        "id": "NvS-66n2GXrG",
        "outputId": "629c0057-5d42-4a4f-c9e9-a31ffc822905"
      },
      "source": [
        "age = 18\n",
        "money = 1000\n",
        "\n",
        "if age >= 18 :\n",
        "  print(\"歡迎光臨\")\n",
        "elif age < 18 and money >10000 :\n",
        "  print(\"歡迎光臨\")\n",
        "else:\n",
        "  print(\"謝謝惠顧\")"
      ],
      "execution_count": 7,
      "outputs": [
        {
          "output_type": "stream",
          "name": "stdout",
          "text": [
            "歡迎光臨\n"
          ]
        }
      ]
    },
    {
      "cell_type": "code",
      "metadata": {
        "colab": {
          "base_uri": "https://localhost:8080/"
        },
        "id": "mvGkTo7oX0ko",
        "outputId": "ecfbfbe2-8e09-4f21-92d4-3512eace82f6"
      },
      "source": [
        "# 巢狀\n",
        "\n",
        "if age >= 18 :\n",
        "  print(\"welcome\")\n",
        "else:\n",
        "  if age < 18 and money > 10000:\n",
        "    print(\"welcome\")\n",
        "  else:\n",
        "    print(\"no\")"
      ],
      "execution_count": 8,
      "outputs": [
        {
          "output_type": "stream",
          "name": "stdout",
          "text": [
            "welcome\n"
          ]
        }
      ]
    },
    {
      "cell_type": "code",
      "metadata": {
        "colab": {
          "base_uri": "https://localhost:8080/"
        },
        "id": "Ava8grMxZk2B",
        "outputId": "f0a85344-1a9f-4ad1-d370-d976cdaf3fee"
      },
      "source": [
        "import random\n",
        "\n",
        "key_word = [\"剪刀\",\"石頭\",\"布\"]\n",
        "# random.choice(key_word)\n",
        "\n",
        "user = int(input(\"請輸入數字 [0]剪刀,[1]石頭,[2]布: \"))\n",
        "rand_num = random.randint(0,2)\n",
        "print(\"你出了: \",key_word[user])\n",
        "print(\"電腦出了: \",key_word[rand_num])\n",
        "\n",
        "if user == (rand_num + 1)%3:\n",
        "  print(\"你贏了\")\n",
        "elif user == rand_num:\n",
        "  print(\"平手\")\n",
        "else:\n",
        "  print(\"你輸了\")\n",
        "  # key_word[user] == key_word[rand_num - 1]"
      ],
      "execution_count": 19,
      "outputs": [
        {
          "output_type": "stream",
          "name": "stdout",
          "text": [
            "請輸入數字 [0]剪刀,[1]石頭,[2]布: 1\n",
            "你出了:  石頭\n",
            "電腦出了:  石頭\n",
            "平手\n"
          ]
        }
      ]
    },
    {
      "cell_type": "code",
      "metadata": {
        "colab": {
          "base_uri": "https://localhost:8080/"
        },
        "id": "ZWQKmBhtkM0u",
        "outputId": "60d9f376-f5aa-4c1b-8e56-dfc9a551faed"
      },
      "source": [
        "list_input = \"星期三 22 10000\"\n",
        "list_input = list_input.split()\n",
        "\n",
        "no_open = [\"星期五\",\"星期六\",\"星期日\"]\n",
        "if list_input[0] in no_open:\n",
        "  print(\"不開市\")\n",
        "else:\n",
        "  print(int(list_input[1])*int(list_input[2]))"
      ],
      "execution_count": 27,
      "outputs": [
        {
          "output_type": "stream",
          "name": "stdout",
          "text": [
            "220000\n"
          ]
        }
      ]
    },
    {
      "cell_type": "code",
      "metadata": {
        "colab": {
          "base_uri": "https://localhost:8080/"
        },
        "id": "W_o_pwMZomiz",
        "outputId": "9be82828-9c20-4978-da79-eb09508bf3f2"
      },
      "source": [
        "import random\n",
        "# num_input = \"1 2 3 4 5,1 2 3 4 5\"\n",
        "# num_input = \"1 2 3 4 5,6 7 8 9 10\"\n",
        "num_input = \"1 2 3 4 5,1 2 3 4 7\"\n",
        "\n",
        "\n",
        "num_input_split = num_input.split(\",\") \n",
        "print(num_input_split)\n",
        "num_input_first = num_input_split[0].split(\" \")\n",
        "num_input_end = num_input_split[1].split(\" \")\n",
        "print(num_input_first)\n",
        "print(num_input_end)\n",
        "count = 0\n",
        "for a in range(5):\n",
        "  if num_input_first[a] in num_input_end:\n",
        "    count += 1\n",
        "print(count)\n",
        "\n",
        "if count == 3:\n",
        "  print(100)\n",
        "elif count == 4:\n",
        "  print(1000)\n",
        "elif count == 5:\n",
        "  print(10000)\n",
        "else:\n",
        "  print(0)"
      ],
      "execution_count": 17,
      "outputs": [
        {
          "output_type": "stream",
          "name": "stdout",
          "text": [
            "['1 2 3 4 5', '1 2 3 4 7']\n",
            "['1', '2', '3', '4', '5']\n",
            "['1', '2', '3', '4', '7']\n",
            "4\n",
            "1000\n"
          ]
        }
      ]
    },
    {
      "cell_type": "code",
      "metadata": {
        "colab": {
          "base_uri": "https://localhost:8080/"
        },
        "id": "9_8ovN7ksemC",
        "outputId": "4f4eb948-dfb8-4908-daf8-f94d498c013b"
      },
      "source": [
        "import random\n",
        "\n",
        "title = 0\n",
        "times = 0\n",
        "\n",
        "while not title > 60:\n",
        "  rnd = random.randint(1,6)\n",
        "  title += rnd\n",
        "  times +=1\n",
        "\n",
        "print(title)\n",
        "print(times)"
      ],
      "execution_count": 28,
      "outputs": [
        {
          "output_type": "stream",
          "name": "stdout",
          "text": [
            "62\n",
            "17\n"
          ]
        }
      ]
    },
    {
      "cell_type": "code",
      "metadata": {
        "colab": {
          "base_uri": "https://localhost:8080/"
        },
        "id": "o1GKCevBtaAt",
        "outputId": "767c6dc5-60ea-4594-a64b-aa6ee990aa0c"
      },
      "source": [
        "a = ['a', 'b', 'c', 'd', 'e', 'f']\n",
        "\n",
        "i = 0\n",
        "while i < len(a):\n",
        "  print(a[i])\n",
        "  i += 1 "
      ],
      "execution_count": 29,
      "outputs": [
        {
          "output_type": "stream",
          "name": "stdout",
          "text": [
            "a\n",
            "b\n",
            "c\n",
            "d\n",
            "e\n",
            "f\n"
          ]
        }
      ]
    },
    {
      "cell_type": "code",
      "metadata": {
        "colab": {
          "base_uri": "https://localhost:8080/"
        },
        "id": "EQblUgM6x1w0",
        "outputId": "e5b9e1e3-2c20-47e8-d092-ce90449be5d1"
      },
      "source": [
        "i = 1\n",
        "while i<= 9:\n",
        "  j = 1\n",
        "  while j<= 9:\n",
        "    print(f'{i}x{j}={i*j}',end =\"   \")\n",
        "    if i*j < 10:\n",
        "      print(end =\" \")\n",
        "    j +=1\n",
        "  print(end= \"\\n\")\n",
        "  i += 1"
      ],
      "execution_count": 50,
      "outputs": [
        {
          "output_type": "stream",
          "name": "stdout",
          "text": [
            "1x1=1    1x2=2    1x3=3    1x4=4    1x5=5    1x6=6    1x7=7    1x8=8    1x9=9    \n",
            "2x1=2    2x2=4    2x3=6    2x4=8    2x5=10   2x6=12   2x7=14   2x8=16   2x9=18   \n",
            "3x1=3    3x2=6    3x3=9    3x4=12   3x5=15   3x6=18   3x7=21   3x8=24   3x9=27   \n",
            "4x1=4    4x2=8    4x3=12   4x4=16   4x5=20   4x6=24   4x7=28   4x8=32   4x9=36   \n",
            "5x1=5    5x2=10   5x3=15   5x4=20   5x5=25   5x6=30   5x7=35   5x8=40   5x9=45   \n",
            "6x1=6    6x2=12   6x3=18   6x4=24   6x5=30   6x6=36   6x7=42   6x8=48   6x9=54   \n",
            "7x1=7    7x2=14   7x3=21   7x4=28   7x5=35   7x6=42   7x7=49   7x8=56   7x9=63   \n",
            "8x1=8    8x2=16   8x3=24   8x4=32   8x5=40   8x6=48   8x7=56   8x8=64   8x9=72   \n",
            "9x1=9    9x2=18   9x3=27   9x4=36   9x5=45   9x6=54   9x7=63   9x8=72   9x9=81   \n"
          ]
        }
      ]
    },
    {
      "cell_type": "code",
      "metadata": {
        "colab": {
          "base_uri": "https://localhost:8080/"
        },
        "id": "mTbP8hmz4Su2",
        "outputId": "88994cfa-190d-426b-cfb2-c39981ea4788"
      },
      "source": [
        "input_num = '10'\n",
        "\n",
        "count = 0\n",
        "i = 1\n",
        "while i <= int(input_num):\n",
        "  count += i\n",
        "  i += 1\n",
        "print(count)"
      ],
      "execution_count": 55,
      "outputs": [
        {
          "output_type": "stream",
          "name": "stdout",
          "text": [
            "55\n"
          ]
        }
      ]
    },
    {
      "cell_type": "code",
      "metadata": {
        "colab": {
          "base_uri": "https://localhost:8080/"
        },
        "id": "tfYKZFs2-Pji",
        "outputId": "732454a4-ccb7-44d1-efe9-cc98a7afd554"
      },
      "source": [
        "a = ['a','b','c','d','f']\n",
        "print('-----'.join(a))"
      ],
      "execution_count": 56,
      "outputs": [
        {
          "output_type": "stream",
          "name": "stdout",
          "text": [
            "a-----b-----c-----d-----f\n"
          ]
        }
      ]
    },
    {
      "cell_type": "code",
      "metadata": {
        "colab": {
          "base_uri": "https://localhost:8080/"
        },
        "id": "z97KAnnM_Onc",
        "outputId": "0321933f-f220-4af0-e573-c3a371cff221"
      },
      "source": [
        "a = '1 2 3 4 5'\n",
        "a_split = a.split(\" \")\n",
        "# print(a_split)\n",
        "# print(len(a_split))\n",
        "# print(int(a_split[0]))\n",
        "\n",
        "i = 0\n",
        "new_list = []\n",
        "while i< len(a_split):\n",
        "  new_num = int(a_split[i]) + 1\n",
        "  new_list.append(str(new_num))\n",
        "  i += 1\n",
        "print(' '.join(new_list))"
      ],
      "execution_count": 75,
      "outputs": [
        {
          "output_type": "stream",
          "name": "stdout",
          "text": [
            "2 3 4 5 6\n"
          ]
        }
      ]
    }
  ]
}