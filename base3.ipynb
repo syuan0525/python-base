{
  "nbformat": 4,
  "nbformat_minor": 0,
  "metadata": {
    "colab": {
      "name": "base3.ipynb",
      "provenance": [],
      "authorship_tag": "ABX9TyMz8HP5HmMOqjr3xlWSqU6D",
      "include_colab_link": true
    },
    "kernelspec": {
      "name": "python3",
      "display_name": "Python 3"
    },
    "language_info": {
      "name": "python"
    }
  },
  "cells": [
    {
      "cell_type": "markdown",
      "metadata": {
        "id": "view-in-github",
        "colab_type": "text"
      },
      "source": [
        "<a href=\"https://colab.research.google.com/github/syuan0525/python-base/blob/main/base3.ipynb\" target=\"_parent\"><img src=\"https://colab.research.google.com/assets/colab-badge.svg\" alt=\"Open In Colab\"/></a>"
      ]
    },
    {
      "cell_type": "code",
      "execution_count": 1,
      "metadata": {
        "colab": {
          "base_uri": "https://localhost:8080/"
        },
        "id": "YivcXX_85jR_",
        "outputId": "de8e36cd-ac82-45db-c7ef-5aaedddd75bf"
      },
      "outputs": [
        {
          "output_type": "stream",
          "name": "stdout",
          "text": [
            "['0', '1', '2', '3']\n"
          ]
        }
      ],
      "source": [
        "str_list = []\n",
        "for i in range(4):\n",
        "  str_list.append(str(i))\n",
        "print(str_list)"
      ]
    },
    {
      "cell_type": "code",
      "source": [
        "print([str(i) for i in range(4)])"
      ],
      "metadata": {
        "colab": {
          "base_uri": "https://localhost:8080/"
        },
        "id": "wu759Up392v0",
        "outputId": "713bc0b8-14c6-482b-b6cf-e2645961df79"
      },
      "execution_count": 2,
      "outputs": [
        {
          "output_type": "stream",
          "name": "stdout",
          "text": [
            "['0', '1', '2', '3']\n"
          ]
        }
      ]
    },
    {
      "cell_type": "code",
      "source": [
        "my = {\n",
        "    \"年紀\": 18,\n",
        "    \"名字\": \"Lux\",\n",
        "    \"是男生嗎\": True, \n",
        "}\n",
        "print(my[\"年紀\"])\n",
        "print(my.get(\"年紀\"))\n",
        "print(my.get(\"中樂透嗎\"))"
      ],
      "metadata": {
        "colab": {
          "base_uri": "https://localhost:8080/"
        },
        "id": "fCsBW0tz_Flz",
        "outputId": "4b1dd9aa-a15b-4eb2-ae27-54d15a9f9ee2"
      },
      "execution_count": 6,
      "outputs": [
        {
          "output_type": "stream",
          "name": "stdout",
          "text": [
            "18\n",
            "18\n",
            "None\n"
          ]
        }
      ]
    },
    {
      "cell_type": "code",
      "source": [
        "id_data = {\n",
        "    \"A\":10,\n",
        "    \"B\":11\n",
        "}\n",
        "\n",
        "my_id = \"A123435235\"\n",
        "print(id_data[my_id[0]])"
      ],
      "metadata": {
        "colab": {
          "base_uri": "https://localhost:8080/"
        },
        "id": "DQY89ed4BwiU",
        "outputId": "a5a79aca-2310-4817-82c4-e0126d3af52e"
      },
      "execution_count": 8,
      "outputs": [
        {
          "output_type": "stream",
          "name": "stdout",
          "text": [
            "10\n"
          ]
        }
      ]
    },
    {
      "cell_type": "code",
      "source": [
        "std1 = {\"name\":\"Lux\",\"no\":1}\n",
        "std2 = {\"name\":\"Bob\",\"no\":2}\n",
        "\n",
        "stds = [std1,std2]\n",
        "for std in stds:\n",
        "  print(std[\"name\"])\n",
        "  print(std.get(\"no\"))"
      ],
      "metadata": {
        "colab": {
          "base_uri": "https://localhost:8080/"
        },
        "id": "zu-zW8e_Ds85",
        "outputId": "b6be46ff-2960-4f53-e0d8-a304baa96c40"
      },
      "execution_count": 12,
      "outputs": [
        {
          "output_type": "stream",
          "name": "stdout",
          "text": [
            "Lux\n",
            "1\n",
            "Bob\n",
            "2\n"
          ]
        }
      ]
    },
    {
      "cell_type": "code",
      "source": [
        "police = {\n",
        "    \"name\": \"兩津勘吉\",\n",
        "    \"height\": 161,\n",
        "    \"is_rich\": False\n",
        "}\n",
        "\n",
        "police_house = {\n",
        "    \"country\": \"日本\",\n",
        "    \"city\": \"東京龜有\"\n",
        "}\n",
        "\n",
        "print({**police, **police_house}) #拆掉括號\n"
      ],
      "metadata": {
        "colab": {
          "base_uri": "https://localhost:8080/"
        },
        "id": "LlsfkVIDFPli",
        "outputId": "bbb056fb-8aa6-494c-f81c-3b3101ee75ff"
      },
      "execution_count": 14,
      "outputs": [
        {
          "output_type": "stream",
          "name": "stdout",
          "text": [
            "{'name': '兩津勘吉', 'height': 161, 'is_rich': False, 'country': '日本', 'city': '東京龜有'}\n"
          ]
        }
      ]
    },
    {
      "cell_type": "code",
      "source": [
        "pip install pytube"
      ],
      "metadata": {
        "colab": {
          "base_uri": "https://localhost:8080/"
        },
        "id": "atjxep4UYu3Q",
        "outputId": "accd57f5-b9c1-42b5-8b70-3d55e347f484"
      },
      "execution_count": 16,
      "outputs": [
        {
          "output_type": "stream",
          "name": "stdout",
          "text": [
            "Collecting pytube\n",
            "  Downloading pytube-11.0.2-py3-none-any.whl (56 kB)\n",
            "\u001b[?25l\r\u001b[K     |█████▉                          | 10 kB 24.0 MB/s eta 0:00:01\r\u001b[K     |███████████▋                    | 20 kB 9.8 MB/s eta 0:00:01\r\u001b[K     |█████████████████▌              | 30 kB 9.1 MB/s eta 0:00:01\r\u001b[K     |███████████████████████▎        | 40 kB 8.2 MB/s eta 0:00:01\r\u001b[K     |█████████████████████████████▏  | 51 kB 4.9 MB/s eta 0:00:01\r\u001b[K     |████████████████████████████████| 56 kB 2.1 MB/s \n",
            "\u001b[?25hInstalling collected packages: pytube\n",
            "Successfully installed pytube-11.0.2\n"
          ]
        }
      ]
    },
    {
      "cell_type": "code",
      "source": [
        "from pytube import YouTube"
      ],
      "metadata": {
        "id": "cw8rz4iNYjzo"
      },
      "execution_count": 17,
      "outputs": []
    }
  ]
}